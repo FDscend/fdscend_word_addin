{
 "cells": [
  {
   "cell_type": "code",
   "execution_count": 1,
   "metadata": {},
   "outputs": [],
   "source": [
    "import requests\n",
    "import sys\n",
    "\n",
    "\n",
    "def requests_download(url, filename):\n",
    "    content = requests.get(url).content\n",
    "    with open(filename, 'wb') as file:\n",
    "        file.write(content)\n",
    "\n",
    "\n",
    "def get_url(filename):\n",
    "    f = open(filename, \"r+\", encoding='utf8')\n",
    "    data = f.read().encode('utf-8').decode(\"unicode_escape\")\n",
    "    pos1 = data.find(\"\\\"cover\\\"\") + 9\n",
    "    pos2 = data.find(\"\\\"tags\\\"\") - 2\n",
    "    url_str = data[pos1: pos2]\n",
    "    return url_str"
   ]
  },
  {
   "cell_type": "code",
   "execution_count": 7,
   "metadata": {},
   "outputs": [
    {
     "name": "stderr",
     "output_type": "stream",
     "text": [
      "C:\\Users\\icydust\\AppData\\Local\\Temp\\ipykernel_20124\\503320125.py:13: DeprecationWarning: invalid escape sequence '\\/'\n",
      "  data = f.read().encode('utf-8').decode(\"unicode_escape\")\n"
     ]
    },
    {
     "data": {
      "text/plain": [
       "'http://i0.hdslb.com/bfs/live/user_cover/7556bf607fdbed21d8f18848e0ed8638a7864552.jpg'"
      ]
     },
     "execution_count": 7,
     "metadata": {},
     "output_type": "execute_result"
    }
   ],
   "source": [
    "url = \"https://live.bilibili.com/26240410?session_id=04c4d602119568d072db924de264f5ae_50465096-CA57-40A0-B0DD-857333D60A3C&launch_id=1000216&live_from=71001\"\n",
    "tempDic = r\"D:\\code\\WordAddIn1\\FDscend\\temp\"\n",
    "filename = tempDic + \"\\\\temp.htm\"\n",
    "picname = tempDic + \"\\\\temp_pic_path\"\n",
    "requests_download(url, filename)\n",
    "url_str = get_url(filename)\n",
    "url_str"
   ]
  },
  {
   "cell_type": "code",
   "execution_count": 8,
   "metadata": {},
   "outputs": [],
   "source": [
    "requests_download(url_str, picname)"
   ]
  }
 ],
 "metadata": {
  "kernelspec": {
   "display_name": "Python 3",
   "language": "python",
   "name": "python3"
  },
  "language_info": {
   "codemirror_mode": {
    "name": "ipython",
    "version": 3
   },
   "file_extension": ".py",
   "mimetype": "text/x-python",
   "name": "python",
   "nbconvert_exporter": "python",
   "pygments_lexer": "ipython3",
   "version": "3.11.1"
  },
  "orig_nbformat": 4
 },
 "nbformat": 4,
 "nbformat_minor": 2
}
