{
 "cells": [
  {
   "cell_type": "code",
   "execution_count": 1,
   "metadata": {},
   "outputs": [],
   "source": [
    "import requests\n",
    "import sys\n",
    "\n",
    "def requests_download(url, filename):\n",
    "    content = requests.get(url).content\n",
    "    with open(filename, 'wb') as file:\n",
    "        file.write(content)\n",
    "\n",
    "\n",
    "def get_url(filename):\n",
    "    f = open(filename, \"r+\", encoding='utf8')\n",
    "    data = f.read()\n",
    "    pos2 = data.find(\"100w_100h\")\n",
    "    pos2 = pos2 - 1\n",
    "    pos1 = data.find(\"image\")\n",
    "    pos1 = pos1 + 18\n",
    "    url_str = data[pos1: pos2]\n",
    "    return url_str"
   ]
  },
  {
   "cell_type": "code",
   "execution_count": 4,
   "metadata": {},
   "outputs": [
    {
     "data": {
      "text/plain": [
       "'i2.hdslb.com/bfs/archive/20210e9a425de289702c5668b0d85b4cdad9a965.jpg'"
      ]
     },
     "execution_count": 4,
     "metadata": {},
     "output_type": "execute_result"
    }
   ],
   "source": [
    "url = \"https://www.bilibili.com/video/BV1i94y147jk/?spm_id_from=333.1007.tianma.1-1-1.click\"\n",
    "tempDic = r\"D:\\code\\WordAddIn1\\FDscend\\temp\"\n",
    "filename = tempDic + \"\\\\temp.htm\"\n",
    "picname = tempDic + \"\\\\temp_pic_path\"\n",
    "requests_download(url, filename)\n",
    "url_str = get_url(filename)\n",
    "url_str"
   ]
  },
  {
   "cell_type": "code",
   "execution_count": 3,
   "metadata": {},
   "outputs": [
    {
     "data": {
      "text/plain": [
       "'https://i2.hdslb.com/bfs/archive/20210e9a425de289702c5668b0d85b4cdad9a965.jpg'"
      ]
     },
     "execution_count": 3,
     "metadata": {},
     "output_type": "execute_result"
    }
   ],
   "source": [
    "url_str = \"https://\" + url_str\n",
    "url_str"
   ]
  }
 ],
 "metadata": {
  "kernelspec": {
   "display_name": "Python 3",
   "language": "python",
   "name": "python3"
  },
  "language_info": {
   "codemirror_mode": {
    "name": "ipython",
    "version": 3
   },
   "file_extension": ".py",
   "mimetype": "text/x-python",
   "name": "python",
   "nbconvert_exporter": "python",
   "pygments_lexer": "ipython3",
   "version": "3.11.1"
  },
  "orig_nbformat": 4
 },
 "nbformat": 4,
 "nbformat_minor": 2
}
